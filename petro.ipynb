{
 "cells": [
  {
   "cell_type": "code",
   "execution_count": 14,
   "metadata": {},
   "outputs": [
    {
     "name": "stdout",
     "output_type": "stream",
     "text": [
      "Defaulting to user installation because normal site-packages is not writeable\n",
      "Requirement already satisfied: pandas in /Users/ariel/Library/Python/3.9/lib/python/site-packages (2.2.3)\n",
      "Requirement already satisfied: python-dateutil>=2.8.2 in /Users/ariel/Library/Python/3.9/lib/python/site-packages (from pandas) (2.9.0.post0)\n",
      "Requirement already satisfied: pytz>=2020.1 in /Users/ariel/Library/Python/3.9/lib/python/site-packages (from pandas) (2022.7.1)\n",
      "Requirement already satisfied: tzdata>=2022.7 in /Users/ariel/Library/Python/3.9/lib/python/site-packages (from pandas) (2024.1)\n",
      "Requirement already satisfied: numpy>=1.22.4 in /Users/ariel/Library/Python/3.9/lib/python/site-packages (from pandas) (1.23.3)\n",
      "Requirement already satisfied: six>=1.5 in /Library/Developer/CommandLineTools/Library/Frameworks/Python3.framework/Versions/3.9/lib/python3.9/site-packages (from python-dateutil>=2.8.2->pandas) (1.15.0)\n",
      "\u001b[33mWARNING: You are using pip version 21.2.4; however, version 24.2 is available.\n",
      "You should consider upgrading via the '/Library/Developer/CommandLineTools/usr/bin/python3 -m pip install --upgrade pip' command.\u001b[0m\n",
      "Note: you may need to restart the kernel to use updated packages.\n",
      "Defaulting to user installation because normal site-packages is not writeable\n",
      "Requirement already satisfied: matplotlib in /Users/ariel/Library/Python/3.9/lib/python/site-packages (3.9.2)\n",
      "Requirement already satisfied: importlib-resources>=3.2.0 in /Users/ariel/Library/Python/3.9/lib/python/site-packages (from matplotlib) (6.4.5)\n",
      "Requirement already satisfied: packaging>=20.0 in /Users/ariel/Library/Python/3.9/lib/python/site-packages (from matplotlib) (21.3)\n",
      "Requirement already satisfied: cycler>=0.10 in /Users/ariel/Library/Python/3.9/lib/python/site-packages (from matplotlib) (0.12.1)\n",
      "Requirement already satisfied: contourpy>=1.0.1 in /Users/ariel/Library/Python/3.9/lib/python/site-packages (from matplotlib) (1.3.0)\n",
      "Requirement already satisfied: numpy>=1.23 in /Users/ariel/Library/Python/3.9/lib/python/site-packages (from matplotlib) (1.23.3)\n",
      "Requirement already satisfied: pyparsing>=2.3.1 in /Users/ariel/Library/Python/3.9/lib/python/site-packages (from matplotlib) (3.1.4)\n",
      "Requirement already satisfied: kiwisolver>=1.3.1 in /Users/ariel/Library/Python/3.9/lib/python/site-packages (from matplotlib) (1.4.7)\n",
      "Requirement already satisfied: python-dateutil>=2.7 in /Users/ariel/Library/Python/3.9/lib/python/site-packages (from matplotlib) (2.9.0.post0)\n",
      "Requirement already satisfied: fonttools>=4.22.0 in /Users/ariel/Library/Python/3.9/lib/python/site-packages (from matplotlib) (4.53.1)\n",
      "Requirement already satisfied: pillow>=8 in /Users/ariel/Library/Python/3.9/lib/python/site-packages (from matplotlib) (10.4.0)\n",
      "Requirement already satisfied: zipp>=3.1.0 in /Users/ariel/Library/Python/3.9/lib/python/site-packages (from importlib-resources>=3.2.0->matplotlib) (3.19.2)\n",
      "Requirement already satisfied: six>=1.5 in /Library/Developer/CommandLineTools/Library/Frameworks/Python3.framework/Versions/3.9/lib/python3.9/site-packages (from python-dateutil>=2.7->matplotlib) (1.15.0)\n",
      "\u001b[33mWARNING: You are using pip version 21.2.4; however, version 24.2 is available.\n",
      "You should consider upgrading via the '/Library/Developer/CommandLineTools/usr/bin/python3 -m pip install --upgrade pip' command.\u001b[0m\n",
      "Note: you may need to restart the kernel to use updated packages.\n",
      "Defaulting to user installation because normal site-packages is not writeable\n",
      "Requirement already satisfied: pyarrow in /Users/ariel/Library/Python/3.9/lib/python/site-packages (17.0.0)\n",
      "Requirement already satisfied: numpy>=1.16.6 in /Users/ariel/Library/Python/3.9/lib/python/site-packages (from pyarrow) (1.23.3)\n",
      "\u001b[33mWARNING: You are using pip version 21.2.4; however, version 24.2 is available.\n",
      "You should consider upgrading via the '/Library/Developer/CommandLineTools/usr/bin/python3 -m pip install --upgrade pip' command.\u001b[0m\n",
      "Note: you may need to restart the kernel to use updated packages.\n",
      "Defaulting to user installation because normal site-packages is not writeable\n",
      "Requirement already satisfied: dask in /Users/ariel/Library/Python/3.9/lib/python/site-packages (2024.8.0)\n",
      "Requirement already satisfied: partd>=1.4.0 in /Users/ariel/Library/Python/3.9/lib/python/site-packages (from dask) (1.4.2)\n",
      "Requirement already satisfied: pyyaml>=5.3.1 in /Users/ariel/Library/Python/3.9/lib/python/site-packages (from dask) (6.0.2)\n",
      "Requirement already satisfied: click>=8.1 in /Users/ariel/Library/Python/3.9/lib/python/site-packages (from dask) (8.1.3)\n",
      "Requirement already satisfied: importlib-metadata>=4.13.0 in /Users/ariel/Library/Python/3.9/lib/python/site-packages (from dask) (4.13.0)\n",
      "Requirement already satisfied: cloudpickle>=1.5.0 in /Users/ariel/Library/Python/3.9/lib/python/site-packages (from dask) (2.2.1)\n",
      "Requirement already satisfied: toolz>=0.10.0 in /Users/ariel/Library/Python/3.9/lib/python/site-packages (from dask) (1.0.0)\n",
      "Requirement already satisfied: fsspec>=2021.09.0 in /Users/ariel/Library/Python/3.9/lib/python/site-packages (from dask) (2024.6.1)\n",
      "Requirement already satisfied: packaging>=20.0 in /Users/ariel/Library/Python/3.9/lib/python/site-packages (from dask) (21.3)\n",
      "Requirement already satisfied: zipp>=0.5 in /Users/ariel/Library/Python/3.9/lib/python/site-packages (from importlib-metadata>=4.13.0->dask) (3.19.2)\n",
      "Requirement already satisfied: pyparsing!=3.0.5,>=2.0.2 in /Users/ariel/Library/Python/3.9/lib/python/site-packages (from packaging>=20.0->dask) (3.1.4)\n",
      "Requirement already satisfied: locket in /Users/ariel/Library/Python/3.9/lib/python/site-packages (from partd>=1.4.0->dask) (1.0.0)\n",
      "\u001b[33mWARNING: You are using pip version 21.2.4; however, version 24.2 is available.\n",
      "You should consider upgrading via the '/Library/Developer/CommandLineTools/usr/bin/python3 -m pip install --upgrade pip' command.\u001b[0m\n",
      "Note: you may need to restart the kernel to use updated packages.\n",
      "Defaulting to user installation because normal site-packages is not writeable\n",
      "Collecting toolkit\n",
      "  Using cached toolkit-0.0.3.tar.gz (5.3 kB)\n",
      "\u001b[31m    ERROR: Command errored out with exit status 1:\n",
      "     command: /Library/Developer/CommandLineTools/usr/bin/python3 -c 'import io, os, sys, setuptools, tokenize; sys.argv[0] = '\"'\"'/private/var/folders/jf/4fwt5czj53x17zbpnrvzxgtm0000gn/T/pip-install-i3zjmzg2/toolkit_1b82be1e19554de6a3ad917a79f8c636/setup.py'\"'\"'; __file__='\"'\"'/private/var/folders/jf/4fwt5czj53x17zbpnrvzxgtm0000gn/T/pip-install-i3zjmzg2/toolkit_1b82be1e19554de6a3ad917a79f8c636/setup.py'\"'\"';f = getattr(tokenize, '\"'\"'open'\"'\"', open)(__file__) if os.path.exists(__file__) else io.StringIO('\"'\"'from setuptools import setup; setup()'\"'\"');code = f.read().replace('\"'\"'\\r\\n'\"'\"', '\"'\"'\\n'\"'\"');f.close();exec(compile(code, __file__, '\"'\"'exec'\"'\"'))' egg_info --egg-base /private/var/folders/jf/4fwt5czj53x17zbpnrvzxgtm0000gn/T/pip-pip-egg-info-q58np95u\n",
      "         cwd: /private/var/folders/jf/4fwt5czj53x17zbpnrvzxgtm0000gn/T/pip-install-i3zjmzg2/toolkit_1b82be1e19554de6a3ad917a79f8c636/\n",
      "    Complete output (5 lines):\n",
      "    Traceback (most recent call last):\n",
      "      File \"<string>\", line 1, in <module>\n",
      "      File \"/private/var/folders/jf/4fwt5czj53x17zbpnrvzxgtm0000gn/T/pip-install-i3zjmzg2/toolkit_1b82be1e19554de6a3ad917a79f8c636/setup.py\", line 32, in <module>\n",
      "        install_requires=open('requirements.txt').readlines(),\n",
      "    FileNotFoundError: [Errno 2] No such file or directory: 'requirements.txt'\n",
      "    ----------------------------------------\u001b[0m\n",
      "\u001b[33mWARNING: Discarding https://files.pythonhosted.org/packages/f4/cc/6a54ee0b81cc2de4c664502b86899a05dd2059d3d4ee36fc9624df4576f3/toolkit-0.0.3.tar.gz#sha256=b76f805501cb62b88de6ae42de162a6f1599202f647cdb246de5ef2d89e5b9b5 (from https://pypi.org/simple/toolkit/). Command errored out with exit status 1: python setup.py egg_info Check the logs for full command output.\u001b[0m\n",
      "  Using cached toolkit-0.0.2.tar.gz (5.0 kB)\n",
      "\u001b[31m    ERROR: Command errored out with exit status 1:\n",
      "     command: /Library/Developer/CommandLineTools/usr/bin/python3 -c 'import io, os, sys, setuptools, tokenize; sys.argv[0] = '\"'\"'/private/var/folders/jf/4fwt5czj53x17zbpnrvzxgtm0000gn/T/pip-install-i3zjmzg2/toolkit_9dc801c7145f4447852a5ab2de4ea472/setup.py'\"'\"'; __file__='\"'\"'/private/var/folders/jf/4fwt5czj53x17zbpnrvzxgtm0000gn/T/pip-install-i3zjmzg2/toolkit_9dc801c7145f4447852a5ab2de4ea472/setup.py'\"'\"';f = getattr(tokenize, '\"'\"'open'\"'\"', open)(__file__) if os.path.exists(__file__) else io.StringIO('\"'\"'from setuptools import setup; setup()'\"'\"');code = f.read().replace('\"'\"'\\r\\n'\"'\"', '\"'\"'\\n'\"'\"');f.close();exec(compile(code, __file__, '\"'\"'exec'\"'\"'))' egg_info --egg-base /private/var/folders/jf/4fwt5czj53x17zbpnrvzxgtm0000gn/T/pip-pip-egg-info-gwwypugn\n",
      "         cwd: /private/var/folders/jf/4fwt5czj53x17zbpnrvzxgtm0000gn/T/pip-install-i3zjmzg2/toolkit_9dc801c7145f4447852a5ab2de4ea472/\n",
      "    Complete output (5 lines):\n",
      "    Traceback (most recent call last):\n",
      "      File \"<string>\", line 1, in <module>\n",
      "      File \"/private/var/folders/jf/4fwt5czj53x17zbpnrvzxgtm0000gn/T/pip-install-i3zjmzg2/toolkit_9dc801c7145f4447852a5ab2de4ea472/setup.py\", line 32, in <module>\n",
      "        install_requires=open('requirements.txt').readlines(),\n",
      "    FileNotFoundError: [Errno 2] No such file or directory: 'requirements.txt'\n",
      "    ----------------------------------------\u001b[0m\n",
      "\u001b[33mWARNING: Discarding https://files.pythonhosted.org/packages/62/af/f0b75a027fc85eccf9726b11ebd0a806c7cc191ec98ab267ed191497c0a0/toolkit-0.0.2.tar.gz#sha256=fa2978cf3221fa8a4a9e4f0c0098df587858834471d148a8c9b2d4eb4eb2590a (from https://pypi.org/simple/toolkit/). Command errored out with exit status 1: python setup.py egg_info Check the logs for full command output.\u001b[0m\n",
      "  Using cached toolkit-0.0.1.tar.gz (4.8 kB)\n",
      "\u001b[31m    ERROR: Command errored out with exit status 1:\n",
      "     command: /Library/Developer/CommandLineTools/usr/bin/python3 -c 'import io, os, sys, setuptools, tokenize; sys.argv[0] = '\"'\"'/private/var/folders/jf/4fwt5czj53x17zbpnrvzxgtm0000gn/T/pip-install-i3zjmzg2/toolkit_cc5d5b576ec4477ea8344a3327a596ff/setup.py'\"'\"'; __file__='\"'\"'/private/var/folders/jf/4fwt5czj53x17zbpnrvzxgtm0000gn/T/pip-install-i3zjmzg2/toolkit_cc5d5b576ec4477ea8344a3327a596ff/setup.py'\"'\"';f = getattr(tokenize, '\"'\"'open'\"'\"', open)(__file__) if os.path.exists(__file__) else io.StringIO('\"'\"'from setuptools import setup; setup()'\"'\"');code = f.read().replace('\"'\"'\\r\\n'\"'\"', '\"'\"'\\n'\"'\"');f.close();exec(compile(code, __file__, '\"'\"'exec'\"'\"'))' egg_info --egg-base /private/var/folders/jf/4fwt5czj53x17zbpnrvzxgtm0000gn/T/pip-pip-egg-info-zzhzldce\n",
      "         cwd: /private/var/folders/jf/4fwt5czj53x17zbpnrvzxgtm0000gn/T/pip-install-i3zjmzg2/toolkit_cc5d5b576ec4477ea8344a3327a596ff/\n",
      "    Complete output (5 lines):\n",
      "    Traceback (most recent call last):\n",
      "      File \"<string>\", line 1, in <module>\n",
      "      File \"/private/var/folders/jf/4fwt5czj53x17zbpnrvzxgtm0000gn/T/pip-install-i3zjmzg2/toolkit_cc5d5b576ec4477ea8344a3327a596ff/setup.py\", line 32, in <module>\n",
      "        install_requires=open('requirements.txt').readlines(),\n",
      "    FileNotFoundError: [Errno 2] No such file or directory: 'requirements.txt'\n",
      "    ----------------------------------------\u001b[0m\n",
      "\u001b[33mWARNING: Discarding https://files.pythonhosted.org/packages/a7/cf/71b975ec087a14bc8de8a8bd7c06c154456b93e55be06e9a07c45b927558/toolkit-0.0.1.tar.gz#sha256=4f1b0e0404141c2105e3b74b4505f54948127beea7f61bc3f6e4d0dcd5ca6668 (from https://pypi.org/simple/toolkit/). Command errored out with exit status 1: python setup.py egg_info Check the logs for full command output.\u001b[0m\n",
      "\u001b[31mERROR: Could not find a version that satisfies the requirement toolkit (from versions: 0.0.1, 0.0.2, 0.0.3)\u001b[0m\n",
      "\u001b[31mERROR: No matching distribution found for toolkit\u001b[0m\n",
      "\u001b[33mWARNING: You are using pip version 21.2.4; however, version 24.2 is available.\n",
      "You should consider upgrading via the '/Library/Developer/CommandLineTools/usr/bin/python3 -m pip install --upgrade pip' command.\u001b[0m\n",
      "Note: you may need to restart the kernel to use updated packages.\n"
     ]
    }
   ],
   "source": [
    "%pip install pandas\n",
    "%pip install matplotlib\n",
    "%pip install pyarrow\n",
    "%pip install dask\n",
    "%pip install toolkit\n"
   ]
  },
  {
   "cell_type": "code",
   "execution_count": 2,
   "metadata": {},
   "outputs": [],
   "source": [
    "import sys\n",
    "import os\n",
    "# Adicionar o caminho do toolkit localmente\n",
    "toolkit_path = '/Users/ariel/Documents/hackathon-petro/toolkit'\n",
    "sys.path.append(toolkit_path)"
   ]
  },
  {
   "cell_type": "code",
   "execution_count": 4,
   "metadata": {},
   "outputs": [
    {
     "name": "stdout",
     "output_type": "stream",
     "text": [
      "Defaulting to user installation because normal site-packages is not writeable\n",
      "\u001b[31mERROR: File \"setup.py\" or \"setup.cfg\" not found. Directory cannot be installed in editable mode: /Users/ariel/Documents/hackathon-petro/toolkit\u001b[0m\n",
      "\u001b[33mWARNING: You are using pip version 21.2.4; however, version 24.2 is available.\n",
      "You should consider upgrading via the '/Library/Developer/CommandLineTools/usr/bin/python3 -m pip install --upgrade pip' command.\u001b[0m\n",
      "Note: you may need to restart the kernel to use updated packages.\n"
     ]
    }
   ],
   "source": [
    "%pip install -e /Users/ariel/Documents/hackathon-petro/toolkit"
   ]
  }
 ],
 "metadata": {
  "kernelspec": {
   "display_name": "Python 3",
   "language": "python",
   "name": "python3"
  },
  "language_info": {
   "codemirror_mode": {
    "name": "ipython",
    "version": 3
   },
   "file_extension": ".py",
   "mimetype": "text/x-python",
   "name": "python",
   "nbconvert_exporter": "python",
   "pygments_lexer": "ipython3",
   "version": "3.9.6"
  }
 },
 "nbformat": 4,
 "nbformat_minor": 2
}
